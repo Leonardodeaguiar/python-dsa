{
 "cells": [
  {
   "cell_type": "markdown",
   "id": "34336187",
   "metadata": {},
   "source": [
    "# Gerando Lista de numeros com python"
   ]
  },
  {
   "cell_type": "code",
   "execution_count": 6,
   "id": "102b3074",
   "metadata": {},
   "outputs": [],
   "source": [
    "numeros = list(range(1, 101))"
   ]
  },
  {
   "cell_type": "code",
   "execution_count": 7,
   "id": "7bd6df46",
   "metadata": {},
   "outputs": [
    {
     "name": "stdout",
     "output_type": "stream",
     "text": [
      "4\n",
      "8\n",
      "12\n",
      "16\n",
      "20\n",
      "24\n",
      "28\n",
      "32\n",
      "36\n",
      "40\n",
      "44\n",
      "48\n",
      "52\n",
      "56\n",
      "60\n",
      "64\n",
      "68\n",
      "72\n",
      "76\n",
      "80\n",
      "84\n",
      "88\n",
      "92\n",
      "96\n",
      "100\n"
     ]
    }
   ],
   "source": [
    "for numero in numeros:\n",
    "    if numero % 2==0 and numero % 4 == 0:\n",
    "        print(numero)"
   ]
  },
  {
   "cell_type": "markdown",
   "id": "86133a6c",
   "metadata": {},
   "source": [
    "# Gerando os mesmos numeros com list comprehension"
   ]
  },
  {
   "cell_type": "code",
   "execution_count": 8,
   "id": "e4fb791d",
   "metadata": {},
   "outputs": [],
   "source": [
    "divisiveis_por_4 = [numero for numero in numeros if numero  % 4 == 0]"
   ]
  },
  {
   "cell_type": "code",
   "execution_count": 9,
   "id": "cbbb244d",
   "metadata": {},
   "outputs": [
    {
     "name": "stdout",
     "output_type": "stream",
     "text": [
      "[4, 8, 12, 16, 20, 24, 28, 32, 36, 40, 44, 48, 52, 56, 60, 64, 68, 72, 76, 80, 84, 88, 92, 96, 100]\n"
     ]
    }
   ],
   "source": [
    "print(divisiveis_por_4)"
   ]
  },
  {
   "cell_type": "code",
   "execution_count": null,
   "id": "285506a5",
   "metadata": {},
   "outputs": [],
   "source": []
  }
 ],
 "metadata": {
  "kernelspec": {
   "display_name": "Python 3 (ipykernel)",
   "language": "python",
   "name": "python3"
  },
  "language_info": {
   "codemirror_mode": {
    "name": "ipython",
    "version": 3
   },
   "file_extension": ".py",
   "mimetype": "text/x-python",
   "name": "python",
   "nbconvert_exporter": "python",
   "pygments_lexer": "ipython3",
   "version": "3.11.4"
  }
 },
 "nbformat": 4,
 "nbformat_minor": 5
}
